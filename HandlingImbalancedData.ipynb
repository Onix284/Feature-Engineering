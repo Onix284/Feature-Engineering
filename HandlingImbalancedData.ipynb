{
 "cells": [
  {
   "cell_type": "markdown",
   "id": "49885281",
   "metadata": {},
   "source": [
    "1. Up Sampling\n",
    "2. Down Sampling"
   ]
  },
  {
   "cell_type": "code",
   "execution_count": null,
   "id": "59073f9f",
   "metadata": {},
   "outputs": [],
   "source": [
    "#Down Sampling is bad because we are lossing data points\n",
    "#Up sampling is good"
   ]
  },
  {
   "cell_type": "code",
   "execution_count": 2,
   "id": "bddb1be6",
   "metadata": {},
   "outputs": [],
   "source": [
    "#Up Sampling\n",
    "\n",
    "import pandas as pd\n",
    "import numpy as np\n",
    "\n",
    "#Set Random Seed\n",
    "np.random.seed(123)\n",
    "\n",
    "n_samples = 1000\n",
    "class_ratio = 0.9\n",
    "class0 = int(n_samples * class_ratio)\n",
    "class1 = n_samples - class0"
   ]
  },
  {
   "cell_type": "code",
   "execution_count": 3,
   "id": "adf00212",
   "metadata": {},
   "outputs": [
    {
     "data": {
      "text/plain": [
       "(900, 100)"
      ]
     },
     "execution_count": 3,
     "metadata": {},
     "output_type": "execute_result"
    }
   ],
   "source": [
    "class0, class1"
   ]
  },
  {
   "cell_type": "code",
   "execution_count": 34,
   "id": "1434a13d",
   "metadata": {},
   "outputs": [
    {
     "data": {
      "text/plain": [
       "target\n",
       "0    900\n",
       "1    900\n",
       "Name: count, dtype: int64"
      ]
     },
     "execution_count": 34,
     "metadata": {},
     "output_type": "execute_result"
    }
   ],
   "source": [
    "#Create data frame with imbalanced dataset  \n",
    "import pandas as pd\n",
    "import numpy as np\n",
    "from sklearn.utils import resample\n",
    "\n",
    "#Set Random Seed\n",
    "np.random.seed(123)\n",
    "\n",
    "n_samples = 1000\n",
    "class_ratio = 0.9\n",
    "class0 = int(n_samples * class_ratio)\n",
    "class1 = n_samples - class0\n",
    "\n",
    "\n",
    "class_0 = pd.DataFrame({\n",
    "    'feature1' : np.random.normal(loc=0, scale=1, size=class0),\n",
    "    'feature2' : np.random.normal(loc=0, scale=1, size=class0),\n",
    "    'target' : [0] * class0 \n",
    "})\n",
    "\n",
    "class_1 = pd.DataFrame({\n",
    "    'feature1' : np.random.normal(loc=0, scale=1, size=class1),\n",
    "    'feature2' : np.random.normal(loc=0, scale=1, size=class1),\n",
    "    'target' : [1] * class1 \n",
    "})\n",
    "\n",
    "\n",
    "df = pd.concat([class_0, class_1]).reset_index(drop = True)\n",
    "\n",
    "df.head()\n",
    "\n",
    "#Up sampling\n",
    "df_minority = df[df['target']==1]\n",
    "df_majority = df[df['target']==0]\n",
    "\n",
    "df['target'].value_counts()\n",
    "\n",
    "df_minority_upsampled = resample(df_minority, replace=True, #Sample with replacement\n",
    "        n_samples = len(df_majority),\n",
    "        random_state = 42\n",
    "        )\n",
    "\n",
    "\n",
    "\n",
    "\n",
    "df_upsampled = pd.concat([df_majority, df_minority_upsampled])\n",
    "df_upsampled['target'].value_counts()"
   ]
  },
  {
   "cell_type": "code",
   "execution_count": null,
   "id": "d7d341b6",
   "metadata": {},
   "outputs": [
    {
     "data": {
      "text/plain": [
       "target\n",
       "1    100\n",
       "0    100\n",
       "Name: count, dtype: int64"
      ]
     },
     "execution_count": 33,
     "metadata": {},
     "output_type": "execute_result"
    }
   ],
   "source": [
    "#Down Sampling\n",
    "df_majority_downsampling = resample(df_majority, n_samples=len(df_minority), random_state=42)\n",
    "df_downsampled = pd.concat([df_minority, df_majority_downsampling])\n",
    "df_downsampled['target'].value_counts()"
   ]
  }
 ],
 "metadata": {
  "kernelspec": {
   "display_name": "Python 3",
   "language": "python",
   "name": "python3"
  },
  "language_info": {
   "codemirror_mode": {
    "name": "ipython",
    "version": 3
   },
   "file_extension": ".py",
   "mimetype": "text/x-python",
   "name": "python",
   "nbconvert_exporter": "python",
   "pygments_lexer": "ipython3",
   "version": "3.12.4"
  }
 },
 "nbformat": 4,
 "nbformat_minor": 5
}
