{
 "cells": [
  {
   "cell_type": "code",
   "execution_count": null,
   "id": "f935fa33",
   "metadata": {},
   "outputs": [],
   "source": [
    "#Hanndling outliers using python"
   ]
  },
  {
   "cell_type": "markdown",
   "id": "3aaa11f2",
   "metadata": {},
   "source": [
    "5 Number Summary"
   ]
  },
  {
   "cell_type": "code",
   "execution_count": null,
   "id": "61b26629",
   "metadata": {},
   "outputs": [
    {
     "data": {
      "text/plain": [
       "np.float64(11.0)"
      ]
     },
     "execution_count": 2,
     "metadata": {},
     "output_type": "execute_result"
    }
   ],
   "source": [
    "#Minimum, maximum, median, q1, q3, IQR\n",
    "\n",
    "import numpy as np\n",
    "\n",
    "lst_marks = [24, 56, 76,43, 32,77,35,89,21,44,11,93]\n",
    "\n",
    "minimum, Q1, median, Q3, maximum = np.quantile(lst_marks,[0, 0.25, 0.50, 0.75, 1.0])\n",
    "\n"
   ]
  },
  {
   "cell_type": "code",
   "execution_count": 8,
   "id": "e25ad9c1",
   "metadata": {},
   "outputs": [
    {
     "data": {
      "text/plain": [
       "(np.float64(11.0),\n",
       " np.float64(30.0),\n",
       " np.float64(43.5),\n",
       " np.float64(76.25),\n",
       " np.float64(93.0))"
      ]
     },
     "execution_count": 8,
     "metadata": {},
     "output_type": "execute_result"
    }
   ],
   "source": [
    "minimum, Q1, median, Q3, maximum     "
   ]
  },
  {
   "cell_type": "code",
   "execution_count": 10,
   "id": "7f9ca820",
   "metadata": {},
   "outputs": [
    {
     "data": {
      "text/plain": [
       "np.float64(46.25)"
      ]
     },
     "execution_count": 10,
     "metadata": {},
     "output_type": "execute_result"
    }
   ],
   "source": [
    "IQR = Q3-Q1\n",
    "IQR"
   ]
  },
  {
   "cell_type": "code",
   "execution_count": 13,
   "id": "394b3a73",
   "metadata": {},
   "outputs": [
    {
     "data": {
      "text/plain": [
       "(np.float64(-39.375), np.float64(145.625))"
      ]
     },
     "execution_count": 13,
     "metadata": {},
     "output_type": "execute_result"
    }
   ],
   "source": [
    "lower_fense = Q1-1.5 * (IQR)\n",
    "higher_fense = Q3+1.5 * (IQR)\n",
    "\n",
    "lower_fense, higher_fense"
   ]
  },
  {
   "cell_type": "code",
   "execution_count": null,
   "id": "7789a67c",
   "metadata": {},
   "outputs": [
    {
     "data": {
      "text/plain": [
       "<Axes: >"
      ]
     },
     "execution_count": 15,
     "metadata": {},
     "output_type": "execute_result"
    },
    {
     "data": {
      "image/png": "[encoded data removed]",
      "text/plain": [
       "<Figure size 640x480 with 1 Axes>"
      ]
     },
     "metadata": {},
     "output_type": "display_data"
    }
   ],
   "source": [
    "import seaborn as sns   \n",
    "sns.boxplot(lst_marks)"
   ]
  },
  {
   "cell_type": "code",
   "execution_count": 17,
   "id": "cd3f5304",
   "metadata": {},
   "outputs": [
    {
     "data": {
      "text/plain": [
       "<Axes: >"
      ]
     },
     "execution_count": 17,
     "metadata": {},
     "output_type": "execute_result"
    },
    {
     "data": {
      "image/png": "[encoded data removed]",
      "text/plain": [
       "<Figure size 640x480 with 1 Axes>"
      ]
     },
     "metadata": {},
     "output_type": "display_data"
    }
   ],
   "source": [
    "lst_marks = [24, 745, 56, 76, -234, 43, 32, -100, 77, 35,89,21,44,11,93, 1000, 4777]\n",
    "\n",
    "sns.boxplot(lst_marks)"
   ]
  }
 ],
 "metadata": {
  "kernelspec": {
   "display_name": "Python 3",
   "language": "python",
   "name": "python3"
  },
  "language_info": {
   "codemirror_mode": {
    "name": "ipython",
    "version": 3
   },
   "file_extension": ".py",
   "mimetype": "text/x-python",
   "name": "python",
   "nbconvert_exporter": "python",
   "pygments_lexer": "ipython3",
   "version": "3.12.4"
  }
 },
 "nbformat": 4,
 "nbformat_minor": 5
}
